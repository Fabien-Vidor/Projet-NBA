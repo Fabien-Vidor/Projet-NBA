{
  "cells": [
    {
      "cell_type": "markdown",
      "id": "IhAGyGFMrUrN",
      "metadata": {
        "id": "IhAGyGFMrUrN"
      },
      "source": [
        "Nous avons téléchargé nos jeux d'entraînement et de test sous forme de csv afin de les récupérer directement sans avoir à relancer tout le preprocessing. Les paramètres choisies sont l'année 2010, 20 notes possibles pour la difficulté."
      ]
    },
    {
      "cell_type": "code",
      "execution_count": null,
      "id": "52aa4ffb",
      "metadata": {
        "id": "52aa4ffb"
      },
      "outputs": [],
      "source": [
        "import pandas as pd\n",
        "import numpy as np\n",
        "from sklearn.metrics import classification_report\n",
        "X_train = pd.read_csv(\"./../../data/X_train.csv\",index_col = 0)\n",
        "X_test = pd.read_csv(\"./../../data/X_test.csv\",index_col = 0)\n",
        "y_train = pd.read_csv(\"./../../data/y_train.csv\",index_col= 0)\n",
        "y_test = pd.read_csv(\"./../../data/y_test.csv\",index_col = 0)"
      ]
    },
    {
      "cell_type": "code",
      "execution_count": null,
      "id": "db15292c",
      "metadata": {
        "id": "db15292c",
        "outputId": "01bffff5-aced-404a-a19c-ad8ef103ab04"
      },
      "outputs": [
        {
          "name": "stdout",
          "output_type": "stream",
          "text": [
            "Score: 0.6459116541353384\n",
            "              precision    recall  f1-score   support\n",
            "\n",
            "           0       0.63      0.78      0.70     13292\n",
            "           1       0.68      0.50      0.58     12244\n",
            "\n",
            "    accuracy                           0.65     25536\n",
            "   macro avg       0.65      0.64      0.64     25536\n",
            "weighted avg       0.65      0.65      0.64     25536\n",
            "\n",
            "Réalisé en 1199.118 secondes\n"
          ]
        }
      ],
      "source": [
        "# Importer la bibliothèque time et calcul du temps au début de l'exécution (t0)\n",
        "from time import time\n",
        "t0 = time()\n",
        "\n",
        "# 'C': 1, 'gamma': 0.5, 'kernel': 'rbf'\n",
        "clf = svm.SVC(C = 1, gamma = 0.5, kernel = 'rbf')\n",
        "clf.fit(X_train, y_train)\n",
        "print('Score:', clf.score(X_test, y_test))\n",
        "\n",
        "y_pred = clf.predict(X_test_scaled)\n",
        "print(classification_report(y_test, y_pred))\n",
        "\n",
        "# Calcul du temps de la lecture du fichier\n",
        "t1 = time() - t0\n",
        "print(\"Réalisé en {} secondes\".format(round(t1,3)))"
      ]
    }
  ],
  "metadata": {
    "colab": {
      "provenance": []
    },
    "kernelspec": {
      "display_name": "Python 3 (ipykernel)",
      "language": "python",
      "name": "python3"
    },
    "language_info": {
      "codemirror_mode": {
        "name": "ipython",
        "version": 3
      },
      "file_extension": ".py",
      "mimetype": "text/x-python",
      "name": "python",
      "nbconvert_exporter": "python",
      "pygments_lexer": "ipython3",
      "version": "3.9.13"
    }
  },
  "nbformat": 4,
  "nbformat_minor": 5
}
