{
 "cells": [
  {
   "cell_type": "markdown",
   "id": "3ba766bd",
   "metadata": {},
   "source": [
    "Nous avons téléchargé nos jeux d'entraînement et de test sous forme de csv afin de les récupérer directement sans avoir à relancer tout le preprocessing. Les paramètres choisies sont l'année 2010, 20 notes possibles pour la difficulté.\n",
    "\n"
   ]
  },
  {
   "cell_type": "code",
   "execution_count": 7,
   "id": "668e8aca",
   "metadata": {},
   "outputs": [],
   "source": [
    "import pandas as pd\n",
    "import numpy as np\n",
    "from sklearn.metrics import classification_report\n",
    "X_train = pd.read_csv(\"./../data/X_train.csv\",index_col = 0)\n",
    "X_test = pd.read_csv(\"./../data/X_test.csv\",index_col = 0)\n",
    "y_train = pd.read_csv(\"./../data/y_train.csv\",index_col= 0)\n",
    "y_test = pd.read_csv(\"./../data/y_test.csv\",index_col = 0)"
   ]
  },
  {
   "cell_type": "markdown",
   "id": "46d31de0",
   "metadata": {},
   "source": [
    "## Régression Logistique"
   ]
  },
  {
   "cell_type": "code",
   "execution_count": 9,
   "id": "5abe44db",
   "metadata": {},
   "outputs": [
    {
     "name": "stdout",
     "output_type": "stream",
     "text": [
      "              precision    recall  f1-score   support\n",
      "\n",
      "           0       0.62      0.80      0.70     13281\n",
      "           1       0.68      0.48      0.56     12255\n",
      "\n",
      "    accuracy                           0.64     25536\n",
      "   macro avg       0.65      0.64      0.63     25536\n",
      "weighted avg       0.65      0.64      0.63     25536\n",
      "\n"
     ]
    }
   ],
   "source": [
    "from sklearn import linear_model, preprocessing\n",
    "clf = linear_model.LogisticRegression(C=0.1, solver = 'lbfgs')\n",
    "clf.fit(X_train, y_train)\n",
    "y_pred = clf.predict(X_test) \n",
    "print(classification_report(y_test, y_pred))"
   ]
  },
  {
   "cell_type": "markdown",
   "id": "1f52eafb",
   "metadata": {},
   "source": [
    "## ElasticNet"
   ]
  },
  {
   "cell_type": "code",
   "execution_count": 11,
   "id": "3ba8ae6c",
   "metadata": {},
   "outputs": [],
   "source": [
    "from sklearn.linear_model import ElasticNetCV\n",
    "scaler = preprocessing.StandardScaler()\n",
    "X_train = scaler.fit_transform(X_train)\n",
    "X_test = scaler.transform(X_test)\n",
    "model_en = ElasticNetCV(cv=8, l1_ratio=(0.1, 0.25, 0.5, 0.7, 0.75, 0.8, 0.85, 0.9, 0.99), \n",
    "                        alphas=(0.001, 0.01, 0.02, 0.025, 0.05, 0.1, 0.25, 0.5, 0.8, 1.0))\n",
    "\n",
    "model_en.fit(X_train, y_train)\n",
    "pred_train = model_en.predict(X_train)\n",
    "pred_test = model_en.predict(X_test)"
   ]
  },
  {
   "cell_type": "markdown",
   "id": "adfa6279",
   "metadata": {},
   "source": [
    "Score R² du train et du test"
   ]
  },
  {
   "cell_type": "code",
   "execution_count": 12,
   "id": "86260a92",
   "metadata": {},
   "outputs": [
    {
     "name": "stdout",
     "output_type": "stream",
     "text": [
      "score train : 0.11416208775272196\n",
      "score test : 0.12169965498475854\n"
     ]
    }
   ],
   "source": [
    "print('score train :', model_en.score(X_train, y_train))\n",
    "print('score test :', model_en.score(X_test, y_test))"
   ]
  },
  {
   "cell_type": "markdown",
   "id": "f44dba84",
   "metadata": {},
   "source": [
    "Classification report du modèle : "
   ]
  },
  {
   "cell_type": "code",
   "execution_count": 13,
   "id": "117dc3c8",
   "metadata": {},
   "outputs": [
    {
     "name": "stdout",
     "output_type": "stream",
     "text": [
      "              precision    recall  f1-score   support\n",
      "\n",
      "           0       0.62      0.80      0.70     13281\n",
      "           1       0.69      0.47      0.56     12255\n",
      "\n",
      "    accuracy                           0.64     25536\n",
      "   macro avg       0.66      0.64      0.63     25536\n",
      "weighted avg       0.65      0.64      0.63     25536\n",
      "\n"
     ]
    }
   ],
   "source": [
    "pred = pred_test > 0.5\n",
    "print(classification_report(y_test, pred))"
   ]
  }
 ],
 "metadata": {
  "kernelspec": {
   "display_name": "Python 3 (ipykernel)",
   "language": "python",
   "name": "python3"
  },
  "language_info": {
   "codemirror_mode": {
    "name": "ipython",
    "version": 3
   },
   "file_extension": ".py",
   "mimetype": "text/x-python",
   "name": "python",
   "nbconvert_exporter": "python",
   "pygments_lexer": "ipython3",
   "version": "3.9.13"
  }
 },
 "nbformat": 4,
 "nbformat_minor": 5
}
