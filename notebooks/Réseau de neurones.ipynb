{
 "cells": [
  {
   "cell_type": "markdown",
   "id": "865efa66",
   "metadata": {},
   "source": [
    "## Réseau de neurones"
   ]
  },
  {
   "cell_type": "markdown",
   "id": "80f68eec",
   "metadata": {},
   "source": [
    "Nous avons téléchargé nos jeux d'entraînement et de test sous forme de csv afin de les récupérer directement sans avoir à relancer tout le preprocessing. Les paramètres choisies sont l'année 2010, 20 notes possibles pour la difficulté."
   ]
  },
  {
   "cell_type": "code",
   "execution_count": 34,
   "id": "422f3818",
   "metadata": {},
   "outputs": [],
   "source": [
    "import pandas as pd\n",
    "import numpy as np\n",
    "from sklearn.metrics import classification_report\n",
    "X_train = pd.read_csv(\"./../X_train.csv\",index_col = 0)\n",
    "X_test = pd.read_csv(\"./../X_test.csv\",index_col = 0)\n",
    "y_train = pd.read_csv(\"./../y_train.csv\",index_col= 0)\n",
    "y_test = pd.read_csv(\"./../y_test.csv\",index_col = 0)"
   ]
  },
  {
   "cell_type": "code",
   "execution_count": 35,
   "id": "117b95a8",
   "metadata": {},
   "outputs": [],
   "source": [
    "import tensorflow as tf\n",
    "from sklearn.preprocessing import MinMaxScaler\n",
    "scaler = MinMaxScaler()\n",
    "X_train_scaled = scaler.fit_transform(X_train)\n",
    "X_test_scaled = scaler.transform(X_test)"
   ]
  },
  {
   "cell_type": "code",
   "execution_count": 36,
   "id": "6f813d5e",
   "metadata": {},
   "outputs": [],
   "source": [
    "from tensorflow.keras.models import Model,Sequential\n",
    "from tensorflow.keras.layers import Dense, Input,Dropout\n",
    "model = Sequential()\n",
    "model.add(Input(shape=14))\n",
    "model.add(Dropout(0.2))\n",
    "model.add(Dense(units = 32,activation = 'tanh'))\n",
    "model.add(Dense(units = 32,activation = 'tanh'))\n",
    "model.add(Dense(units = 1,activation=\"sigmoid\"))"
   ]
  },
  {
   "cell_type": "code",
   "execution_count": 37,
   "id": "b9ab590e",
   "metadata": {},
   "outputs": [
    {
     "name": "stdout",
     "output_type": "stream",
     "text": [
      "Model: \"sequential_4\"\n",
      "_________________________________________________________________\n",
      " Layer (type)                Output Shape              Param #   \n",
      "=================================================================\n",
      " dropout_3 (Dropout)         (None, 14)                0         \n",
      "                                                                 \n",
      " dense_12 (Dense)            (None, 32)                480       \n",
      "                                                                 \n",
      " dense_13 (Dense)            (None, 32)                1056      \n",
      "                                                                 \n",
      " dense_14 (Dense)            (None, 1)                 33        \n",
      "                                                                 \n",
      "=================================================================\n",
      "Total params: 1,569\n",
      "Trainable params: 1,569\n",
      "Non-trainable params: 0\n",
      "_________________________________________________________________\n"
     ]
    }
   ],
   "source": [
    "model.summary()"
   ]
  },
  {
   "cell_type": "code",
   "execution_count": 38,
   "id": "7e358b0d",
   "metadata": {},
   "outputs": [],
   "source": [
    "from tensorflow.keras.callbacks import ReduceLROnPlateau,EarlyStopping\n",
    "reduce = ReduceLROnPlateau(monitor = 'val_loss',\n",
    "                        min_delta = 0.01,\n",
    "                        patience = 5,\n",
    "                        factor = 0.1, \n",
    "                        cooldown = 2,\n",
    "                        verbose = 1)\n",
    "early_stopping = EarlyStopping(monitor='val_loss',min_delta = 0.01,patience=10,mode='min',verbose=1)"
   ]
  },
  {
   "cell_type": "code",
   "execution_count": 39,
   "id": "ae708408",
   "metadata": {},
   "outputs": [],
   "source": [
    "model.compile(loss = \"binary_focal_crossentropy\",optimizer = \"adam\",metrics = [\"accuracy\"])"
   ]
  },
  {
   "cell_type": "code",
   "execution_count": 40,
   "id": "8330af83",
   "metadata": {},
   "outputs": [
    {
     "name": "stdout",
     "output_type": "stream",
     "text": [
      "Epoch 1/30\n",
      "3192/3192 [==============================] - 14s 4ms/step - loss: 0.1644 - accuracy: 0.6080 - val_loss: 0.1606 - val_accuracy: 0.6406 - lr: 0.0010\n",
      "Epoch 2/30\n",
      "3192/3192 [==============================] - 11s 3ms/step - loss: 0.1635 - accuracy: 0.6114 - val_loss: 0.1597 - val_accuracy: 0.6389 - lr: 0.0010\n",
      "Epoch 3/30\n",
      "3192/3192 [==============================] - 10s 3ms/step - loss: 0.1633 - accuracy: 0.6112 - val_loss: 0.1599 - val_accuracy: 0.6392 - lr: 0.0010\n",
      "Epoch 4/30\n",
      "3192/3192 [==============================] - 10s 3ms/step - loss: 0.1630 - accuracy: 0.6134 - val_loss: 0.1592 - val_accuracy: 0.6421 - lr: 0.0010\n",
      "Epoch 5/30\n",
      "3192/3192 [==============================] - 10s 3ms/step - loss: 0.1627 - accuracy: 0.6145 - val_loss: 0.1587 - val_accuracy: 0.6426 - lr: 0.0010\n",
      "Epoch 6/30\n",
      "3174/3192 [============================>.] - ETA: 0s - loss: 0.1629 - accuracy: 0.6130\n",
      "Epoch 6: ReduceLROnPlateau reducing learning rate to 0.00010000000474974513.\n",
      "3192/3192 [==============================] - 10s 3ms/step - loss: 0.1629 - accuracy: 0.6130 - val_loss: 0.1604 - val_accuracy: 0.6386 - lr: 0.0010\n",
      "Epoch 7/30\n",
      "3192/3192 [==============================] - 11s 3ms/step - loss: 0.1626 - accuracy: 0.6128 - val_loss: 0.1600 - val_accuracy: 0.6437 - lr: 1.0000e-04\n",
      "Epoch 8/30\n",
      "3192/3192 [==============================] - 11s 3ms/step - loss: 0.1623 - accuracy: 0.6155 - val_loss: 0.1593 - val_accuracy: 0.6394 - lr: 1.0000e-04\n",
      "Epoch 9/30\n",
      "3192/3192 [==============================] - 10s 3ms/step - loss: 0.1623 - accuracy: 0.6155 - val_loss: 0.1593 - val_accuracy: 0.6407 - lr: 1.0000e-04\n",
      "Epoch 10/30\n",
      "3192/3192 [==============================] - 11s 3ms/step - loss: 0.1623 - accuracy: 0.6163 - val_loss: 0.1594 - val_accuracy: 0.6431 - lr: 1.0000e-04\n",
      "Epoch 11/30\n",
      "3192/3192 [==============================] - 11s 3ms/step - loss: 0.1623 - accuracy: 0.6162 - val_loss: 0.1591 - val_accuracy: 0.6446 - lr: 1.0000e-04\n",
      "Epoch 11: early stopping\n"
     ]
    }
   ],
   "source": [
    "history=model.fit(X_train_scaled,y_train, epochs = 30,batch_size = 32,validation_data = (X_test_scaled,y_test),callbacks = [reduce,early_stopping])"
   ]
  },
  {
   "cell_type": "code",
   "execution_count": 41,
   "id": "2964274f",
   "metadata": {},
   "outputs": [
    {
     "name": "stdout",
     "output_type": "stream",
     "text": [
      "798/798 [==============================] - 2s 2ms/step\n",
      "              precision    recall  f1-score   support\n",
      "\n",
      "           0       0.66      0.59      0.62     13281\n",
      "           1       0.60      0.67      0.63     12255\n",
      "\n",
      "    accuracy                           0.63     25536\n",
      "   macro avg       0.63      0.63      0.63     25536\n",
      "weighted avg       0.63      0.63      0.63     25536\n",
      "\n"
     ]
    }
   ],
   "source": [
    "y_proba_rn = model.predict(X_test)\n",
    "y_pred_rn = [1 if a>=0.5 else 0 for a in y_proba_rn]\n",
    "print(classification_report(y_test,y_pred_rn))"
   ]
  }
 ],
 "metadata": {
  "kernelspec": {
   "display_name": "Python 3 (ipykernel)",
   "language": "python",
   "name": "python3"
  },
  "language_info": {
   "codemirror_mode": {
    "name": "ipython",
    "version": 3
   },
   "file_extension": ".py",
   "mimetype": "text/x-python",
   "name": "python",
   "nbconvert_exporter": "python",
   "pygments_lexer": "ipython3",
   "version": "3.9.13"
  }
 },
 "nbformat": 4,
 "nbformat_minor": 5
}
