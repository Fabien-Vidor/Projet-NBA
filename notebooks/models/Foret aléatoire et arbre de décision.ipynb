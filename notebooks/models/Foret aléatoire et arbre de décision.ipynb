{
 "cells": [
  {
   "cell_type": "markdown",
   "id": "66f6eca0",
   "metadata": {},
   "source": [
    "Nous avons téléchargé nos jeux d'entraînement et de test sous forme de csv afin de les récupérer directement sans avoir à relancer tout le preprocessing. Les paramètres choisies sont l'année 2010, 20 notes possibles pour la difficulté."
   ]
  },
  {
   "cell_type": "code",
   "execution_count": 1,
   "id": "0381940c",
   "metadata": {},
   "outputs": [],
   "source": [
    "import pandas as pd\n",
    "import numpy as np\n",
    "from sklearn.metrics import classification_report\n",
    "X_train = pd.read_csv(\"./../../data/X_train.csv\",index_col = 0)\n",
    "X_test = pd.read_csv(\"./../../data/X_test.csv\",index_col = 0)\n",
    "y_train = pd.read_csv(\"./../../data/y_train.csv\",index_col= 0)\n",
    "y_test = pd.read_csv(\"./../../data/y_test.csv\",index_col = 0)"
   ]
  },
  {
   "cell_type": "markdown",
   "id": "17f6fc54",
   "metadata": {},
   "source": [
    "## Arbre de décision"
   ]
  },
  {
   "cell_type": "markdown",
   "id": "81b53dd9",
   "metadata": {},
   "source": [
    "Après une recherche des meilleurs paramètres par GridSearch, nous obtenons cet arbre de décision."
   ]
  },
  {
   "cell_type": "code",
   "execution_count": 9,
   "id": "6efedfc3",
   "metadata": {},
   "outputs": [
    {
     "name": "stdout",
     "output_type": "stream",
     "text": [
      "              precision    recall  f1-score   support\n",
      "\n",
      "           0       0.64      0.74      0.69     13281\n",
      "           1       0.66      0.55      0.60     12255\n",
      "\n",
      "    accuracy                           0.65     25536\n",
      "   macro avg       0.65      0.65      0.64     25536\n",
      "weighted avg       0.65      0.65      0.65     25536\n",
      "\n"
     ]
    }
   ],
   "source": [
    "from sklearn.tree import DecisionTreeClassifier\n",
    "dt = DecisionTreeClassifier(class_weight= 'balanced',\n",
    " criterion= 'entropy',\n",
    " max_depth= 10,\n",
    " min_samples_leaf= 0.001,\n",
    " min_samples_split= 0.01,\n",
    " splitter= 'random',random_state=0)\n",
    "dt.fit(X_train,y_train)\n",
    "print(classification_report(y_test,dt.predict(X_test)))"
   ]
  },
  {
   "cell_type": "markdown",
   "id": "f4862ae9",
   "metadata": {},
   "source": [
    "## Forêt aléatoire"
   ]
  },
  {
   "cell_type": "markdown",
   "id": "b99ccff4",
   "metadata": {},
   "source": [
    "Après une recherche des meilleurs paramètres par GridSearch, nous obtenons cette forêt aléatoire."
   ]
  },
  {
   "cell_type": "code",
   "execution_count": 2,
   "id": "ddbf59f1",
   "metadata": {},
   "outputs": [
    {
     "name": "stderr",
     "output_type": "stream",
     "text": [
      "C:\\Users\\alexr\\AppData\\Local\\Temp\\ipykernel_55752\\1442952963.py:3: DataConversionWarning: A column-vector y was passed when a 1d array was expected. Please change the shape of y to (n_samples,), for example using ravel().\n",
      "  rf.fit(X_train,y_train)\n"
     ]
    },
    {
     "name": "stdout",
     "output_type": "stream",
     "text": [
      "              precision    recall  f1-score   support\n",
      "\n",
      "           0       0.64      0.79      0.71     13281\n",
      "           1       0.69      0.51      0.59     12255\n",
      "\n",
      "    accuracy                           0.66     25536\n",
      "   macro avg       0.66      0.65      0.65     25536\n",
      "weighted avg       0.66      0.66      0.65     25536\n",
      "\n"
     ]
    }
   ],
   "source": [
    "from sklearn.ensemble import RandomForestClassifier\n",
    "rf = RandomForestClassifier(min_samples_leaf = 0.001,n_estimators = 100)\n",
    "rf.fit(X_train,y_train)\n",
    "print(classification_report(y_test,rf.predict(X_test)))"
   ]
  },
  {
   "cell_type": "markdown",
   "id": "a1a47f83",
   "metadata": {},
   "source": [
    "## Ada Boost"
   ]
  },
  {
   "cell_type": "code",
   "execution_count": 12,
   "id": "1f3ec722",
   "metadata": {},
   "outputs": [
    {
     "name": "stderr",
     "output_type": "stream",
     "text": [
      "C:\\Users\\leo57\\anaconda3\\lib\\site-packages\\sklearn\\utils\\validation.py:993: DataConversionWarning: A column-vector y was passed when a 1d array was expected. Please change the shape of y to (n_samples, ), for example using ravel().\n",
      "  y = column_or_1d(y, warn=True)\n"
     ]
    },
    {
     "name": "stdout",
     "output_type": "stream",
     "text": [
      "              precision    recall  f1-score   support\n",
      "\n",
      "           0       0.63      0.70      0.66     13281\n",
      "           1       0.63      0.57      0.60     12255\n",
      "\n",
      "    accuracy                           0.63     25536\n",
      "   macro avg       0.63      0.63      0.63     25536\n",
      "weighted avg       0.63      0.63      0.63     25536\n",
      "\n"
     ]
    }
   ],
   "source": [
    "from sklearn.ensemble import AdaBoostClassifier\n",
    "ac=AdaBoostClassifier(base_estimator=dt,n_estimators=400) # L'estimateur de base est le DecisionTreea\n",
    "ac.fit(X_train,y_train)\n",
    "print(classification_report(y_test,ac.predict(X_test)))"
   ]
  }
 ],
 "metadata": {
  "kernelspec": {
   "display_name": "Python 3 (ipykernel)",
   "language": "python",
   "name": "python3"
  },
  "language_info": {
   "codemirror_mode": {
    "name": "ipython",
    "version": 3
   },
   "file_extension": ".py",
   "mimetype": "text/x-python",
   "name": "python",
   "nbconvert_exporter": "python",
   "pygments_lexer": "ipython3",
   "version": "3.9.13"
  }
 },
 "nbformat": 4,
 "nbformat_minor": 5
}
