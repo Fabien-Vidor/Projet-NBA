{
 "cells": [
  {
   "cell_type": "markdown",
   "id": "865efa66",
   "metadata": {},
   "source": [
    "## Réseau de neurones"
   ]
  },
  {
   "cell_type": "markdown",
   "id": "80f68eec",
   "metadata": {},
   "source": [
    "Nous avons téléchargé nos jeux d'entraînement et de test sous forme de csv afin de les récupérer directement sans avoir à relancer tout le preprocessing. Les paramètres choisies sont l'année 2010, 20 notes possibles pour la difficulté."
   ]
  },
  {
   "cell_type": "code",
   "execution_count": 1,
   "id": "422f3818",
   "metadata": {},
   "outputs": [],
   "source": [
    "import pandas as pd\n",
    "import numpy as np\n",
    "from sklearn.metrics import classification_report\n",
    "X_train = pd.read_csv(\"./../../data/X_train.csv\",index_col = 0)\n",
    "X_test = pd.read_csv(\"./../../data/X_test.csv\",index_col = 0)\n",
    "y_train = pd.read_csv(\"./../../data/y_train.csv\",index_col= 0)\n",
    "y_test = pd.read_csv(\"./../../data/y_test.csv\",index_col = 0)"
   ]
  },
  {
   "cell_type": "code",
   "execution_count": 2,
   "id": "117b95a8",
   "metadata": {},
   "outputs": [],
   "source": [
    "import tensorflow as tf\n",
    "from sklearn.preprocessing import MinMaxScaler\n",
    "scaler = MinMaxScaler()\n",
    "X_train_scaled = scaler.fit_transform(X_train)\n",
    "X_test_scaled = scaler.transform(X_test)"
   ]
  },
  {
   "cell_type": "code",
   "execution_count": 3,
   "id": "6f813d5e",
   "metadata": {},
   "outputs": [],
   "source": [
    "from tensorflow.keras.models import Model,Sequential\n",
    "from tensorflow.keras.layers import Dense, Input,Dropout\n",
    "model = Sequential()\n",
    "model.add(Input(shape=14))\n",
    "model.add(Dropout(0.2))\n",
    "model.add(Dense(units = 32,activation = 'tanh'))\n",
    "model.add(Dense(units = 32,activation = 'tanh'))\n",
    "model.add(Dense(units = 1,activation=\"sigmoid\"))"
   ]
  },
  {
   "cell_type": "code",
   "execution_count": 4,
   "id": "b9ab590e",
   "metadata": {},
   "outputs": [
    {
     "name": "stdout",
     "output_type": "stream",
     "text": [
      "Model: \"sequential\"\n",
      "_________________________________________________________________\n",
      " Layer (type)                Output Shape              Param #   \n",
      "=================================================================\n",
      " dropout (Dropout)           (None, 14)                0         \n",
      "                                                                 \n",
      " dense (Dense)               (None, 32)                480       \n",
      "                                                                 \n",
      " dense_1 (Dense)             (None, 32)                1056      \n",
      "                                                                 \n",
      " dense_2 (Dense)             (None, 1)                 33        \n",
      "                                                                 \n",
      "=================================================================\n",
      "Total params: 1,569\n",
      "Trainable params: 1,569\n",
      "Non-trainable params: 0\n",
      "_________________________________________________________________\n"
     ]
    }
   ],
   "source": [
    "model.summary()"
   ]
  },
  {
   "cell_type": "code",
   "execution_count": 5,
   "id": "7e358b0d",
   "metadata": {},
   "outputs": [],
   "source": [
    "from tensorflow.keras.callbacks import ReduceLROnPlateau,EarlyStopping\n",
    "reduce = ReduceLROnPlateau(monitor = 'val_loss',\n",
    "                        min_delta = 0.01,\n",
    "                        patience = 5,\n",
    "                        factor = 0.1, \n",
    "                        cooldown = 2,\n",
    "                        verbose = 1)\n",
    "early_stopping = EarlyStopping(monitor='val_loss',min_delta = 0.01,patience=10,mode='min',verbose=1)"
   ]
  },
  {
   "cell_type": "code",
   "execution_count": 6,
   "id": "ae708408",
   "metadata": {},
   "outputs": [],
   "source": [
    "model.compile(loss = \"binary_focal_crossentropy\",optimizer = \"adam\",metrics = [\"accuracy\"])"
   ]
  },
  {
   "cell_type": "code",
   "execution_count": 7,
   "id": "8330af83",
   "metadata": {},
   "outputs": [
    {
     "name": "stdout",
     "output_type": "stream",
     "text": [
      "Epoch 1/30\n",
      "3192/3192 [==============================] - 10s 3ms/step - loss: 0.1642 - accuracy: 0.6080 - val_loss: 0.1606 - val_accuracy: 0.6366 - lr: 0.0010\n",
      "Epoch 2/30\n",
      "3192/3192 [==============================] - 8s 2ms/step - loss: 0.1634 - accuracy: 0.6136 - val_loss: 0.1605 - val_accuracy: 0.6360 - lr: 0.0010\n",
      "Epoch 3/30\n",
      "3192/3192 [==============================] - 8s 3ms/step - loss: 0.1633 - accuracy: 0.6121 - val_loss: 0.1603 - val_accuracy: 0.6378 - lr: 0.0010\n",
      "Epoch 4/30\n",
      "3192/3192 [==============================] - 8s 2ms/step - loss: 0.1630 - accuracy: 0.6132 - val_loss: 0.1596 - val_accuracy: 0.6396 - lr: 0.0010\n",
      "Epoch 5/30\n",
      "3192/3192 [==============================] - 8s 3ms/step - loss: 0.1629 - accuracy: 0.6122 - val_loss: 0.1605 - val_accuracy: 0.6351 - lr: 0.0010\n",
      "Epoch 6/30\n",
      "3170/3192 [============================>.] - ETA: 0s - loss: 0.1629 - accuracy: 0.6130\n",
      "Epoch 6: ReduceLROnPlateau reducing learning rate to 0.00010000000474974513.\n",
      "3192/3192 [==============================] - 9s 3ms/step - loss: 0.1629 - accuracy: 0.6132 - val_loss: 0.1588 - val_accuracy: 0.6442 - lr: 0.0010\n",
      "Epoch 7/30\n",
      "3192/3192 [==============================] - 9s 3ms/step - loss: 0.1623 - accuracy: 0.6154 - val_loss: 0.1599 - val_accuracy: 0.6433 - lr: 1.0000e-04\n",
      "Epoch 8/30\n",
      "3192/3192 [==============================] - 8s 3ms/step - loss: 0.1624 - accuracy: 0.6134 - val_loss: 0.1596 - val_accuracy: 0.6424 - lr: 1.0000e-04\n",
      "Epoch 9/30\n",
      "3192/3192 [==============================] - 8s 3ms/step - loss: 0.1624 - accuracy: 0.6138 - val_loss: 0.1600 - val_accuracy: 0.6427 - lr: 1.0000e-04\n",
      "Epoch 10/30\n",
      "3192/3192 [==============================] - 8s 3ms/step - loss: 0.1622 - accuracy: 0.6171 - val_loss: 0.1594 - val_accuracy: 0.6430 - lr: 1.0000e-04\n",
      "Epoch 11/30\n",
      "3192/3192 [==============================] - 8s 3ms/step - loss: 0.1624 - accuracy: 0.6144 - val_loss: 0.1595 - val_accuracy: 0.6429 - lr: 1.0000e-04\n",
      "Epoch 11: early stopping\n"
     ]
    }
   ],
   "source": [
    "history=model.fit(X_train_scaled,y_train, epochs = 30,batch_size = 32,validation_data = (X_test_scaled,y_test),callbacks = [reduce,early_stopping])"
   ]
  },
  {
   "cell_type": "code",
   "execution_count": 8,
   "id": "2964274f",
   "metadata": {},
   "outputs": [
    {
     "name": "stdout",
     "output_type": "stream",
     "text": [
      "798/798 [==============================] - 1s 1ms/step\n",
      "              precision    recall  f1-score   support\n",
      "\n",
      "           0       0.66      0.62      0.64     13281\n",
      "           1       0.61      0.65      0.63     12255\n",
      "\n",
      "    accuracy                           0.63     25536\n",
      "   macro avg       0.63      0.63      0.63     25536\n",
      "weighted avg       0.63      0.63      0.63     25536\n",
      "\n"
     ]
    }
   ],
   "source": [
    "y_proba_rn = model.predict(X_test)\n",
    "y_pred_rn = [1 if a>=0.5 else 0 for a in y_proba_rn]\n",
    "print(classification_report(y_test,y_pred_rn))"
   ]
  }
 ],
 "metadata": {
  "kernelspec": {
   "display_name": "Python 3 (ipykernel)",
   "language": "python",
   "name": "python3"
  },
  "language_info": {
   "codemirror_mode": {
    "name": "ipython",
    "version": 3
   },
   "file_extension": ".py",
   "mimetype": "text/x-python",
   "name": "python",
   "nbconvert_exporter": "python",
   "pygments_lexer": "ipython3",
   "version": "3.10.6"
  }
 },
 "nbformat": 4,
 "nbformat_minor": 5
}
