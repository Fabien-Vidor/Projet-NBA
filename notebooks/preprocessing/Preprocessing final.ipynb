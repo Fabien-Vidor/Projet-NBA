{
 "cells": [
  {
   "cell_type": "code",
   "execution_count": 5,
   "id": "aad1fac0",
   "metadata": {},
   "outputs": [],
   "source": [
    "import pandas as pd\n",
    "import numpy as np"
   ]
  },
  {
   "cell_type": "code",
   "execution_count": 61,
   "id": "835543db",
   "metadata": {},
   "outputs": [],
   "source": [
    "# Importation des 2 DataFrame\n",
    "df = pd.read_csv('./../../data/NBA Shot Locations 1997 - 2020.csv')\n",
    "rank = pd.read_csv('./../../data/ranking.csv')"
   ]
  },
  {
   "cell_type": "code",
   "execution_count": 20,
   "id": "43bf753c",
   "metadata": {},
   "outputs": [],
   "source": [
    "def preparation_shot_location(df,annee):\n",
    "    # Récupération des 10 meilleurs joueurs\n",
    "    espn = pd.read_csv('./../../data/top_espn_actif.csv')\n",
    "    # On restreint la DataFrame aux 10 meilleurs joueurs\n",
    "    new_df = df.loc[df['Player Name'].isin(espn['player'])]\n",
    "    # On met la colonne Game Date en type datetime\n",
    "    new_df['Game Date']=pd.to_datetime(new_df['Game Date'],format = '%Y%m%d')\n",
    "    # On restreint à partir de l'année 2010\n",
    "    new_df= new_df.loc[new_df['Game Date'].dt.year >=annee]\n",
    "    return new_df"
   ]
  },
  {
   "cell_type": "code",
   "execution_count": 21,
   "id": "3390efed",
   "metadata": {},
   "outputs": [
    {
     "name": "stderr",
     "output_type": "stream",
     "text": [
      "C:\\Users\\alexr\\AppData\\Local\\Temp\\ipykernel_76312\\2817400316.py:7: SettingWithCopyWarning: \n",
      "A value is trying to be set on a copy of a slice from a DataFrame.\n",
      "Try using .loc[row_indexer,col_indexer] = value instead\n",
      "\n",
      "See the caveats in the documentation: https://pandas.pydata.org/pandas-docs/stable/user_guide/indexing.html#returning-a-view-versus-a-copy\n",
      "  new_df['Game Date']=pd.to_datetime(new_df['Game Date'],format = '%Y%m%d')\n"
     ]
    }
   ],
   "source": [
    "dff = preparation_shot_location(df, 2010)\n",
    "dff.to_csv('./../../data/df_top.csv')"
   ]
  },
  {
   "cell_type": "code",
   "execution_count": 22,
   "id": "06347310",
   "metadata": {},
   "outputs": [],
   "source": [
    "def preparation_ranking(ranking,annee):\n",
    "    # On modifie le type de la date pour correspondre avec l'autre DataFrame\n",
    "    ranking['STANDINGSDATE']=pd.to_datetime(ranking['STANDINGSDATE'],format = '%Y-%m-%d')\n",
    "    # On se restreint à au delà de 2010\n",
    "    ranking = ranking.loc[rank['STANDINGSDATE'].dt.year >= annee]\n",
    "    return ranking"
   ]
  },
  {
   "cell_type": "code",
   "execution_count": 23,
   "id": "43fece58",
   "metadata": {},
   "outputs": [],
   "source": [
    "# On crée une fonction qui prend en entrée un type d'action 'a' et retourne le taux de réussite associé.\n",
    "def find_val(df_tx_reussite,a):\n",
    "    return df_tx_reussite.loc[df_tx_reussite['Action Type'] == a]['Shot Made Flag'].values[0]\n",
    "\n",
    "# On crée une fonction qui à une valeur de taux de réussite donnée associe sa note\n",
    "def find_n(val,liste):\n",
    "    n = 0\n",
    "    for i in liste:\n",
    "        if val >= i:\n",
    "            n+=1\n",
    "    return n\n",
    "\n",
    "# Cette fonction crée la colonne difficulté. Pour cela, elle prend en entrée un entier n, elle parcourt toutes les lignes de \n",
    "# notre DataFrame. Pour chaque ligne elle récupère le taux de réussite de l'Action Type et lui associe sa note.\n",
    "def categ(df_tx_reussite,df,n):\n",
    "    quantile = list(df_tx_reussite['Shot Made Flag'].quantile(np.linspace(1/n,1,n)))\n",
    "    cat = []\n",
    "    for a in df['Action Type']:\n",
    "        val = find_n(find_val(df_tx_reussite,a),quantile)\n",
    "        cat.append(val)\n",
    "    return cat\n",
    "\n",
    "# Création de la variable shot_difficulty\n",
    "def shot_difficulty(df,n,data):\n",
    "    # On crée la DataFrame qui à chaque type de shoot associe le taux de réussite. (70 types de shoot)\n",
    "    df_tx_reussite = pd.DataFrame(data.groupby('Action Type')['Shot Made Flag'].mean().reset_index())\n",
    "    # On trouve les quantiles d'ordre n pour ces 70 valeurs.\n",
    "    quantile = list(df_tx_reussite['Shot Made Flag'].quantile(np.linspace(1/n,1,n)))\n",
    "    difficulty = categ(df_tx_reussite,df,n)\n",
    "    df['Shot Difficulty'] = difficulty\n",
    "    df = df.drop(['Action Type'],axis=1)\n",
    "    return df"
   ]
  },
  {
   "cell_type": "code",
   "execution_count": 24,
   "id": "ed893750",
   "metadata": {},
   "outputs": [],
   "source": [
    "# Cette fonction associe à chaque shot l'équipe adverse du shooter.\n",
    "def adversaire(df):\n",
    "    adv = []\n",
    "    new_df = df[['Team Name','Home Team','Away Team']]\n",
    "    for a in new_df.values:\n",
    "        if a[0] == a[1]:\n",
    "            adv.append(a[2])\n",
    "        else:\n",
    "            adv.append(a[1])\n",
    "    return adv\n",
    "\n",
    "def creation_pourcentage_adversaire(df,rank):\n",
    "    # On remplace le nom des équipes de la colonne Team Name par leur code en 3 lettres\n",
    "    new_df = df.replace(to_replace = ['New Orleans Hornets', 'Oklahoma City Thunder',\n",
    "       'Golden State Warriors', 'Cleveland Cavaliers', 'Miami Heat',\n",
    "       'Los Angeles Clippers', 'San Antonio Spurs', 'Houston Rockets',\n",
    "       'Portland Trail Blazers', 'New Orleans Pelicans',\n",
    "       'Milwaukee Bucks', 'LA Clippers', 'Toronto Raptors','New Orleans/Oklahoma City Hornets',\n",
    "       'Los Angeles Lakers','Seattle SuperSonics'],\n",
    "           value = ['NOP', 'OKC','GSW','CLE','MIA','LAC','SAS','HOU','POR','NOP','MIL','LAC','TOR','NOK','LAL','SEA'])\n",
    "    # On applique la fonction adversaire qui crée une colonne avec l'équipe adverse pour chaque shoot.\n",
    "    new_df['Adversaire'] = adversaire(new_df)\n",
    "    # On remplace les noms de la colonne TEAM de ranking pour que cela corresponde avec les valeurs de la colonne 'Adversaire'.\n",
    "    new_rank=rank.replace(to_replace = ['Denver', 'Memphis', 'New Orleans', 'Phoenix', 'LA Clippers',\n",
    "       'Sacramento', 'Utah', 'Portland', 'Dallas', 'Minnesota',\n",
    "       'Golden State', 'Oklahoma City', 'L.A. Lakers', 'San Antonio',\n",
    "       'Houston', 'Milwaukee', 'Boston', 'Cleveland', 'Brooklyn',\n",
    "       'Philadelphia', 'New York', 'Atlanta', 'Indiana', 'Miami',\n",
    "       'Toronto', 'Chicago', 'Orlando', 'Washington', 'Charlotte',\n",
    "       'Detroit', 'L.A. Clippers','New Jersey','Seattle', 'New Orleans/Oklahoma City',], \n",
    "                          value = ['DEN','MEM','NOP','PHX','LAC','SAC','UTA','POR',\n",
    "                                                          'DAL','MIN','GSW','OKC','LAL','SAS','HOU','MIL',\n",
    "                                                          'BOS','CLE','BKN','PHI','NYK','ATL','IND','MIA',\n",
    "                                                          'TOR','CHI','ORL','WAS','CHA','DET','LAC','NJN','SEA','NOK'])\n",
    "    # On joint les 2 dataframe sur la date et l'équipe adverse par une jointure gauche pour conserver tous les shoots.\n",
    "    final_df = new_df.merge(new_rank,how = 'left',right_on = ['STANDINGSDATE','TEAM'],left_on = ['Game Date','Adversaire'])\n",
    "    # On applique une correction à la colonne pourcentage de victoire pour gérer les valeurs extrêmes du début de saison\n",
    "    final_df['W_PCT_2'] = [a if a>0.2 else final_df['W_PCT'].mean() for a in final_df['W_PCT']]\n",
    "    # On enlève la colonne avec beaucoup de NaN et l'ancienne colonne 'W_PCT'\n",
    "    final_df = final_df.drop(['RETURNTOPLAY','W_PCT'],axis = 1)\n",
    "    return final_df"
   ]
  },
  {
   "cell_type": "code",
   "execution_count": 25,
   "id": "32e43450",
   "metadata": {},
   "outputs": [],
   "source": [
    "def get_dummies(df,colonne):\n",
    "    # Cette fonction sert juste à rendre le get_dummies plus rapide\n",
    "    dummies = pd.get_dummies(df[colonne])\n",
    "    new_df = pd.concat([df,dummies],axis=1)\n",
    "    new_df=new_df.drop([colonne],axis=1)\n",
    "    return new_df"
   ]
  },
  {
   "cell_type": "code",
   "execution_count": 62,
   "id": "69b01f11",
   "metadata": {},
   "outputs": [],
   "source": [
    "def forme(df_actif):\n",
    "    action_ = {}\n",
    "\n",
    "    for match in df_actif['Game ID'].unique():\n",
    "        for joueur in df_actif[df_actif['Game ID'] == match]['Player Name'].unique():\n",
    "            for i, index in enumerate(df_actif[(df_actif['Game ID'] == match) & (df_actif['Player Name'] == joueur)].sort_values(['Period', 'Minutes Remaining', 'Seconds Remaining'],ascending=[True, False, False]).index):\n",
    "                action_[index] = df_actif[(df_actif['Game ID'] == match) & (df_actif['Player Name'] == joueur)].sort_values(['Period', 'Minutes Remaining', 'Seconds Remaining'],ascending=[True, False, False])[:i]['Shot Made Flag'].mean()\n",
    "\n",
    "    df_actif['Pourcentage flag'] = pd.Series(action_).sort_index()\n",
    "    df_actif = df_actif.fillna({'Pourcentage flag': df_actif['Pourcentage flag'].mean()}).dropna()\n",
    "\n",
    "    return df_actif"
   ]
  },
  {
   "cell_type": "code",
   "execution_count": 63,
   "id": "6522ef23",
   "metadata": {},
   "outputs": [],
   "source": [
    "from sklearn.model_selection import train_test_split,GridSearchCV\n",
    "def final_df(df,rank,n,annee):\n",
    "    # On prépare la DataFrame \"NBA Shot Locations 1997 - 2020\"\n",
    "    shot_loc = preparation_shot_location(df,annee)\n",
    "    # On prépare la DataFrame \"Ranking\"\n",
    "    ranking = preparation_ranking(rank,annee)\n",
    "    # On crée le pourcentage de l'équipe adverse\n",
    "    new_df = creation_pourcentage_adversaire(shot_loc,ranking)\n",
    "    # On crée les variables joueurs à l'aide d'un get_dummies\n",
    "    final_df = get_dummies(new_df,'Player Name')\n",
    "    # On crée la variable \"Last Minute\" à l'aide de la colonne \"Minutes Remaining\"\n",
    "    last_minute = [1 if a == 0 else 0 for a in final_df[\"Minutes Remaining\"]]\n",
    "    final_df['Last Minute'] = last_minute\n",
    "    # On choisit les colonnes qui nous intéresse\n",
    "    dff = final_df.loc[:,['Last Minute','Action Type','W_PCT_2','Shot Made Flag','Damian Lillard','LeBron James',\n",
    "                         'Kevin Durant','Chris Paul','Russell Westbrook','James Harden','Anthony Davis','Giannis Antetokounmpo',\n",
    "                         'Kawhi Leonard','Stephen Curry','Shot Distance']]\n",
    "    # On sépare en je de tes et jeu d'entraînement\n",
    "    target = dff['Shot Made Flag']\n",
    "    data_train,data_test,y_train,y_test = train_test_split(dff,target,random_state=10,test_size=0.2)\n",
    "    # On crée la variable \"Shot Difficulty\" calibrés sur les données de X_train et appliqués à X_test et X_train\n",
    "    X_train = shot_difficulty(data_train,n,data_train)\n",
    "    X_test = shot_difficulty(data_test,n,data_train)\n",
    "    X_train = X_train.drop([\"Shot Made Flag\"],axis=1)\n",
    "    X_test = X_test.drop([\"Shot Made Flag\"],axis=1)\n",
    "    return X_train,X_test,y_train,y_test"
   ]
  },
  {
   "cell_type": "code",
   "execution_count": 38,
   "id": "2092b067",
   "metadata": {},
   "outputs": [],
   "source": [
    "def selection_colonne(df,columns):\n",
    "    #Permet de choisir les colonnes que l'on souhaite.\n",
    "    return df.loc[:,columns]"
   ]
  },
  {
   "cell_type": "code",
   "execution_count": 64,
   "id": "3e4b7b17",
   "metadata": {},
   "outputs": [
    {
     "name": "stderr",
     "output_type": "stream",
     "text": [
      "C:\\Users\\alexr\\AppData\\Local\\Temp\\ipykernel_76312\\2817400316.py:7: SettingWithCopyWarning: \n",
      "A value is trying to be set on a copy of a slice from a DataFrame.\n",
      "Try using .loc[row_indexer,col_indexer] = value instead\n",
      "\n",
      "See the caveats in the documentation: https://pandas.pydata.org/pandas-docs/stable/user_guide/indexing.html#returning-a-view-versus-a-copy\n",
      "  new_df['Game Date']=pd.to_datetime(new_df['Game Date'],format = '%Y%m%d')\n"
     ]
    }
   ],
   "source": [
    "(X_train,X_test,y_train,y_test)=final_df(df,rank,20,2010)"
   ]
  },
  {
   "cell_type": "code",
   "execution_count": null,
   "id": "969613c5",
   "metadata": {},
   "outputs": [],
   "source": []
  }
 ],
 "metadata": {
  "kernelspec": {
   "display_name": "Python 3 (ipykernel)",
   "language": "python",
   "name": "python3"
  },
  "language_info": {
   "codemirror_mode": {
    "name": "ipython",
    "version": 3
   },
   "file_extension": ".py",
   "mimetype": "text/x-python",
   "name": "python",
   "nbconvert_exporter": "python",
   "pygments_lexer": "ipython3",
   "version": "3.9.13"
  }
 },
 "nbformat": 4,
 "nbformat_minor": 5
}
